{
  "nbformat": 4,
  "nbformat_minor": 0,
  "metadata": {
    "colab": {
      "provenance": []
    },
    "kernelspec": {
      "name": "python3",
      "display_name": "Python 3"
    }
  },
  "cells": [
    {
      "cell_type": "markdown",
      "metadata": {
        "id": "ASoPoX_X0ciM"
      },
      "source": [
        "<h1>Structured and Unstructured Data</h1>"
      ]
    },
    {
      "cell_type": "markdown",
      "metadata": {
        "id": "XsHuwqF40eBT"
      },
      "source": [
        "<h2>Assignment Overview</h2>"
      ]
    },
    {
      "cell_type": "markdown",
      "metadata": {
        "id": "l0Kq6EZ70iu7"
      },
      "source": [
        "Airbnb is an online marketplace that connects people who want to rent out their homes with people who are looking for accommodations in that location.\n",
        "\n",
        "You've been hired by a person looking to list a new Airbnb rental site in New York City. They want to optimize the number of reviews that their Airbnb gets, assuring that it's the most popular one in the city.\n",
        "\n",
        "It's up to you to analyze Airbnb data from New York City to make a recommendation on the best price, location, and name of their posting."
      ]
    },
    {
      "cell_type": "markdown",
      "metadata": {
        "id": "mbyXRT1p1S3c"
      },
      "source": [
        "<h2>Importing Data</h2>"
      ]
    },
    {
      "cell_type": "markdown",
      "metadata": {
        "id": "LmVJnfcL1NpG"
      },
      "source": [
        "Before we can do anything we have to import and review the data we'll use to make the recommendation.\n",
        "\n",
        "The entire data set is actually thousands of entries long, but when you run the code you'll just see the first five rows. This way you have enough data to understand what's in the whole data set without having to look at or load all of it!\n",
        "\n",
        "**TO DO:** Run the code below to load a preview of the data. You will be asked for a verificaiton code. To get it, load the link provdied in your browser, link your account, agree to the terms and conditions, and then copy and paste the code provided into the verification space below. Once you've done this a data table should appear."
      ]
    },
    {
      "cell_type": "code",
      "metadata": {
        "id": "4zsBIxkd0ZFm",
        "colab": {
          "base_uri": "https://localhost:8080/",
          "height": 461
        },
        "outputId": "1143b0a4-9cd3-43aa-c425-89b842b4f38c"
      },
      "source": [
        "from google.colab import auth\n",
        "auth.authenticate_user()\n",
        "import gspread\n",
        "from google.auth import default\n",
        "creds,_ = default()\n",
        "gc = gspread.authorize(creds)\n",
        "import pandas as pd\n",
        "import matplotlib.pyplot as plt\n",
        "\n",
        "wb = gc.open_by_url('https://docs.google.com/spreadsheets/d/1YTD0pxdGTGAzM8IiWDfLL4AZPjrFRN-vpGUiLQWOtoI')\n",
        "\n",
        "sheet = wb.worksheet('AB_NYC_2019')\n",
        "data = sheet.get_all_values()\n",
        "\n",
        "df = pd.DataFrame(data)\n",
        "df.columns = df.iloc[0]\n",
        "df = df.iloc[1:]\n",
        "\n",
        "df.head()"
      ],
      "execution_count": 2,
      "outputs": [
        {
          "output_type": "execute_result",
          "data": {
            "text/plain": [
              "0    id                                              name host_id  \\\n",
              "1  2539                Clean & quiet apt home by the park    2787   \n",
              "2  2595                             Skylit Midtown Castle    2845   \n",
              "3  3647               THE VILLAGE OF HARLEM....NEW YORK !    4632   \n",
              "4  3831                   Cozy Entire Floor of Brownstone    4869   \n",
              "5  5022  Entire Apt: Spacious Studio/Loft by central park    7192   \n",
              "\n",
              "0    host_name neighbourhood_group neighbourhood  latitude  longitude  \\\n",
              "1         John            Brooklyn    Kensington  40.64749  -73.97237   \n",
              "2     Jennifer           Manhattan       Midtown  40.75362  -73.98377   \n",
              "3    Elisabeth           Manhattan        Harlem  40.80902   -73.9419   \n",
              "4  LisaRoxanne            Brooklyn  Clinton Hill  40.68514  -73.95976   \n",
              "5        Laura           Manhattan   East Harlem  40.79851  -73.94399   \n",
              "\n",
              "0        room_type price minimum_nights number_of_reviews last_review  \\\n",
              "1     Private room   149              1                 9  2018-10-19   \n",
              "2  Entire home/apt   225              1                45  2019-05-21   \n",
              "3     Private room   150              3                 0               \n",
              "4  Entire home/apt    89              1               270  2019-07-05   \n",
              "5  Entire home/apt    80             10                 9  2018-11-19   \n",
              "\n",
              "0 reviews_per_month calculated_host_listings_count availability_365  \n",
              "1              0.21                              6              365  \n",
              "2              0.38                              2              355  \n",
              "3                                                1              365  \n",
              "4              4.64                              1              194  \n",
              "5               0.1                              1                0  "
            ],
            "text/html": [
              "\n",
              "  <div id=\"df-1982f255-e51f-42fa-a0b0-97d00a5296c6\">\n",
              "    <div class=\"colab-df-container\">\n",
              "      <div>\n",
              "<style scoped>\n",
              "    .dataframe tbody tr th:only-of-type {\n",
              "        vertical-align: middle;\n",
              "    }\n",
              "\n",
              "    .dataframe tbody tr th {\n",
              "        vertical-align: top;\n",
              "    }\n",
              "\n",
              "    .dataframe thead th {\n",
              "        text-align: right;\n",
              "    }\n",
              "</style>\n",
              "<table border=\"1\" class=\"dataframe\">\n",
              "  <thead>\n",
              "    <tr style=\"text-align: right;\">\n",
              "      <th></th>\n",
              "      <th>id</th>\n",
              "      <th>name</th>\n",
              "      <th>host_id</th>\n",
              "      <th>host_name</th>\n",
              "      <th>neighbourhood_group</th>\n",
              "      <th>neighbourhood</th>\n",
              "      <th>latitude</th>\n",
              "      <th>longitude</th>\n",
              "      <th>room_type</th>\n",
              "      <th>price</th>\n",
              "      <th>minimum_nights</th>\n",
              "      <th>number_of_reviews</th>\n",
              "      <th>last_review</th>\n",
              "      <th>reviews_per_month</th>\n",
              "      <th>calculated_host_listings_count</th>\n",
              "      <th>availability_365</th>\n",
              "    </tr>\n",
              "  </thead>\n",
              "  <tbody>\n",
              "    <tr>\n",
              "      <th>1</th>\n",
              "      <td>2539</td>\n",
              "      <td>Clean &amp; quiet apt home by the park</td>\n",
              "      <td>2787</td>\n",
              "      <td>John</td>\n",
              "      <td>Brooklyn</td>\n",
              "      <td>Kensington</td>\n",
              "      <td>40.64749</td>\n",
              "      <td>-73.97237</td>\n",
              "      <td>Private room</td>\n",
              "      <td>149</td>\n",
              "      <td>1</td>\n",
              "      <td>9</td>\n",
              "      <td>2018-10-19</td>\n",
              "      <td>0.21</td>\n",
              "      <td>6</td>\n",
              "      <td>365</td>\n",
              "    </tr>\n",
              "    <tr>\n",
              "      <th>2</th>\n",
              "      <td>2595</td>\n",
              "      <td>Skylit Midtown Castle</td>\n",
              "      <td>2845</td>\n",
              "      <td>Jennifer</td>\n",
              "      <td>Manhattan</td>\n",
              "      <td>Midtown</td>\n",
              "      <td>40.75362</td>\n",
              "      <td>-73.98377</td>\n",
              "      <td>Entire home/apt</td>\n",
              "      <td>225</td>\n",
              "      <td>1</td>\n",
              "      <td>45</td>\n",
              "      <td>2019-05-21</td>\n",
              "      <td>0.38</td>\n",
              "      <td>2</td>\n",
              "      <td>355</td>\n",
              "    </tr>\n",
              "    <tr>\n",
              "      <th>3</th>\n",
              "      <td>3647</td>\n",
              "      <td>THE VILLAGE OF HARLEM....NEW YORK !</td>\n",
              "      <td>4632</td>\n",
              "      <td>Elisabeth</td>\n",
              "      <td>Manhattan</td>\n",
              "      <td>Harlem</td>\n",
              "      <td>40.80902</td>\n",
              "      <td>-73.9419</td>\n",
              "      <td>Private room</td>\n",
              "      <td>150</td>\n",
              "      <td>3</td>\n",
              "      <td>0</td>\n",
              "      <td></td>\n",
              "      <td></td>\n",
              "      <td>1</td>\n",
              "      <td>365</td>\n",
              "    </tr>\n",
              "    <tr>\n",
              "      <th>4</th>\n",
              "      <td>3831</td>\n",
              "      <td>Cozy Entire Floor of Brownstone</td>\n",
              "      <td>4869</td>\n",
              "      <td>LisaRoxanne</td>\n",
              "      <td>Brooklyn</td>\n",
              "      <td>Clinton Hill</td>\n",
              "      <td>40.68514</td>\n",
              "      <td>-73.95976</td>\n",
              "      <td>Entire home/apt</td>\n",
              "      <td>89</td>\n",
              "      <td>1</td>\n",
              "      <td>270</td>\n",
              "      <td>2019-07-05</td>\n",
              "      <td>4.64</td>\n",
              "      <td>1</td>\n",
              "      <td>194</td>\n",
              "    </tr>\n",
              "    <tr>\n",
              "      <th>5</th>\n",
              "      <td>5022</td>\n",
              "      <td>Entire Apt: Spacious Studio/Loft by central park</td>\n",
              "      <td>7192</td>\n",
              "      <td>Laura</td>\n",
              "      <td>Manhattan</td>\n",
              "      <td>East Harlem</td>\n",
              "      <td>40.79851</td>\n",
              "      <td>-73.94399</td>\n",
              "      <td>Entire home/apt</td>\n",
              "      <td>80</td>\n",
              "      <td>10</td>\n",
              "      <td>9</td>\n",
              "      <td>2018-11-19</td>\n",
              "      <td>0.1</td>\n",
              "      <td>1</td>\n",
              "      <td>0</td>\n",
              "    </tr>\n",
              "  </tbody>\n",
              "</table>\n",
              "</div>\n",
              "      <button class=\"colab-df-convert\" onclick=\"convertToInteractive('df-1982f255-e51f-42fa-a0b0-97d00a5296c6')\"\n",
              "              title=\"Convert this dataframe to an interactive table.\"\n",
              "              style=\"display:none;\">\n",
              "        \n",
              "  <svg xmlns=\"http://www.w3.org/2000/svg\" height=\"24px\"viewBox=\"0 0 24 24\"\n",
              "       width=\"24px\">\n",
              "    <path d=\"M0 0h24v24H0V0z\" fill=\"none\"/>\n",
              "    <path d=\"M18.56 5.44l.94 2.06.94-2.06 2.06-.94-2.06-.94-.94-2.06-.94 2.06-2.06.94zm-11 1L8.5 8.5l.94-2.06 2.06-.94-2.06-.94L8.5 2.5l-.94 2.06-2.06.94zm10 10l.94 2.06.94-2.06 2.06-.94-2.06-.94-.94-2.06-.94 2.06-2.06.94z\"/><path d=\"M17.41 7.96l-1.37-1.37c-.4-.4-.92-.59-1.43-.59-.52 0-1.04.2-1.43.59L10.3 9.45l-7.72 7.72c-.78.78-.78 2.05 0 2.83L4 21.41c.39.39.9.59 1.41.59.51 0 1.02-.2 1.41-.59l7.78-7.78 2.81-2.81c.8-.78.8-2.07 0-2.86zM5.41 20L4 18.59l7.72-7.72 1.47 1.35L5.41 20z\"/>\n",
              "  </svg>\n",
              "      </button>\n",
              "      \n",
              "  <style>\n",
              "    .colab-df-container {\n",
              "      display:flex;\n",
              "      flex-wrap:wrap;\n",
              "      gap: 12px;\n",
              "    }\n",
              "\n",
              "    .colab-df-convert {\n",
              "      background-color: #E8F0FE;\n",
              "      border: none;\n",
              "      border-radius: 50%;\n",
              "      cursor: pointer;\n",
              "      display: none;\n",
              "      fill: #1967D2;\n",
              "      height: 32px;\n",
              "      padding: 0 0 0 0;\n",
              "      width: 32px;\n",
              "    }\n",
              "\n",
              "    .colab-df-convert:hover {\n",
              "      background-color: #E2EBFA;\n",
              "      box-shadow: 0px 1px 2px rgba(60, 64, 67, 0.3), 0px 1px 3px 1px rgba(60, 64, 67, 0.15);\n",
              "      fill: #174EA6;\n",
              "    }\n",
              "\n",
              "    [theme=dark] .colab-df-convert {\n",
              "      background-color: #3B4455;\n",
              "      fill: #D2E3FC;\n",
              "    }\n",
              "\n",
              "    [theme=dark] .colab-df-convert:hover {\n",
              "      background-color: #434B5C;\n",
              "      box-shadow: 0px 1px 3px 1px rgba(0, 0, 0, 0.15);\n",
              "      filter: drop-shadow(0px 1px 2px rgba(0, 0, 0, 0.3));\n",
              "      fill: #FFFFFF;\n",
              "    }\n",
              "  </style>\n",
              "\n",
              "      <script>\n",
              "        const buttonEl =\n",
              "          document.querySelector('#df-1982f255-e51f-42fa-a0b0-97d00a5296c6 button.colab-df-convert');\n",
              "        buttonEl.style.display =\n",
              "          google.colab.kernel.accessAllowed ? 'block' : 'none';\n",
              "\n",
              "        async function convertToInteractive(key) {\n",
              "          const element = document.querySelector('#df-1982f255-e51f-42fa-a0b0-97d00a5296c6');\n",
              "          const dataTable =\n",
              "            await google.colab.kernel.invokeFunction('convertToInteractive',\n",
              "                                                     [key], {});\n",
              "          if (!dataTable) return;\n",
              "\n",
              "          const docLinkHtml = 'Like what you see? Visit the ' +\n",
              "            '<a target=\"_blank\" href=https://colab.research.google.com/notebooks/data_table.ipynb>data table notebook</a>'\n",
              "            + ' to learn more about interactive tables.';\n",
              "          element.innerHTML = '';\n",
              "          dataTable['output_type'] = 'display_data';\n",
              "          await google.colab.output.renderOutput(dataTable, element);\n",
              "          const docLink = document.createElement('div');\n",
              "          docLink.innerHTML = docLinkHtml;\n",
              "          element.appendChild(docLink);\n",
              "        }\n",
              "      </script>\n",
              "    </div>\n",
              "  </div>\n",
              "  "
            ]
          },
          "metadata": {},
          "execution_count": 2
        }
      ]
    },
    {
      "cell_type": "markdown",
      "metadata": {
        "id": "2M1wPOmq2GOr"
      },
      "source": [
        "**TO DO:** Double click to edit this text. Preview the data, then list three things you noticed about it.\n",
        "\n",
        "1. The table is a mix of quantitative and categorical data.\n",
        "2. The data is structured as it comes in the form of a table.\n",
        "3. There are 16 columns in the table.\n",
        "\n",
        "\n"
      ]
    },
    {
      "cell_type": "markdown",
      "metadata": {
        "id": "wvDmAzI83FY5"
      },
      "source": [
        "For our analysis, we don't need all of the data that was originally in the data set. We'll only need some of it. The code below will remove the unnecessay columns of data. This will make the data easier to look at and work with.\n",
        "\n",
        "**TO DO:** Run the code below."
      ]
    },
    {
      "cell_type": "code",
      "metadata": {
        "id": "A0gCrpaKwvNE",
        "colab": {
          "base_uri": "https://localhost:8080/",
          "height": 206
        },
        "outputId": "26e141f6-4e93-4e15-fcdb-2b0b40e9cca4"
      },
      "source": [
        "df['reviews_per_month_new'] = df['reviews_per_month'].apply(lambda x: '0' if x == '' else x)\n",
        "\n",
        "new_df_schema = {\n",
        "'Name': df['name'].astype(str), \n",
        "'Neighborhood': df['neighbourhood_group'].astype(str),\n",
        "'Price': df['price'].astype(float),\n",
        "'Number of Reviews': df['number_of_reviews'].astype(int),\n",
        "}\n",
        "\n",
        "airbnb_ny_df = pd.DataFrame(new_df_schema)\n",
        "\n",
        "airbnb_ny_df.head()"
      ],
      "execution_count": 4,
      "outputs": [
        {
          "output_type": "execute_result",
          "data": {
            "text/plain": [
              "                                               Name Neighborhood  Price  \\\n",
              "1                Clean & quiet apt home by the park     Brooklyn  149.0   \n",
              "2                             Skylit Midtown Castle    Manhattan  225.0   \n",
              "3               THE VILLAGE OF HARLEM....NEW YORK !    Manhattan  150.0   \n",
              "4                   Cozy Entire Floor of Brownstone     Brooklyn   89.0   \n",
              "5  Entire Apt: Spacious Studio/Loft by central park    Manhattan   80.0   \n",
              "\n",
              "   Number of Reviews  \n",
              "1                  9  \n",
              "2                 45  \n",
              "3                  0  \n",
              "4                270  \n",
              "5                  9  "
            ],
            "text/html": [
              "\n",
              "  <div id=\"df-624892b9-c048-46dc-bbe6-9d290ff0e6c0\">\n",
              "    <div class=\"colab-df-container\">\n",
              "      <div>\n",
              "<style scoped>\n",
              "    .dataframe tbody tr th:only-of-type {\n",
              "        vertical-align: middle;\n",
              "    }\n",
              "\n",
              "    .dataframe tbody tr th {\n",
              "        vertical-align: top;\n",
              "    }\n",
              "\n",
              "    .dataframe thead th {\n",
              "        text-align: right;\n",
              "    }\n",
              "</style>\n",
              "<table border=\"1\" class=\"dataframe\">\n",
              "  <thead>\n",
              "    <tr style=\"text-align: right;\">\n",
              "      <th></th>\n",
              "      <th>Name</th>\n",
              "      <th>Neighborhood</th>\n",
              "      <th>Price</th>\n",
              "      <th>Number of Reviews</th>\n",
              "    </tr>\n",
              "  </thead>\n",
              "  <tbody>\n",
              "    <tr>\n",
              "      <th>1</th>\n",
              "      <td>Clean &amp; quiet apt home by the park</td>\n",
              "      <td>Brooklyn</td>\n",
              "      <td>149.0</td>\n",
              "      <td>9</td>\n",
              "    </tr>\n",
              "    <tr>\n",
              "      <th>2</th>\n",
              "      <td>Skylit Midtown Castle</td>\n",
              "      <td>Manhattan</td>\n",
              "      <td>225.0</td>\n",
              "      <td>45</td>\n",
              "    </tr>\n",
              "    <tr>\n",
              "      <th>3</th>\n",
              "      <td>THE VILLAGE OF HARLEM....NEW YORK !</td>\n",
              "      <td>Manhattan</td>\n",
              "      <td>150.0</td>\n",
              "      <td>0</td>\n",
              "    </tr>\n",
              "    <tr>\n",
              "      <th>4</th>\n",
              "      <td>Cozy Entire Floor of Brownstone</td>\n",
              "      <td>Brooklyn</td>\n",
              "      <td>89.0</td>\n",
              "      <td>270</td>\n",
              "    </tr>\n",
              "    <tr>\n",
              "      <th>5</th>\n",
              "      <td>Entire Apt: Spacious Studio/Loft by central park</td>\n",
              "      <td>Manhattan</td>\n",
              "      <td>80.0</td>\n",
              "      <td>9</td>\n",
              "    </tr>\n",
              "  </tbody>\n",
              "</table>\n",
              "</div>\n",
              "      <button class=\"colab-df-convert\" onclick=\"convertToInteractive('df-624892b9-c048-46dc-bbe6-9d290ff0e6c0')\"\n",
              "              title=\"Convert this dataframe to an interactive table.\"\n",
              "              style=\"display:none;\">\n",
              "        \n",
              "  <svg xmlns=\"http://www.w3.org/2000/svg\" height=\"24px\"viewBox=\"0 0 24 24\"\n",
              "       width=\"24px\">\n",
              "    <path d=\"M0 0h24v24H0V0z\" fill=\"none\"/>\n",
              "    <path d=\"M18.56 5.44l.94 2.06.94-2.06 2.06-.94-2.06-.94-.94-2.06-.94 2.06-2.06.94zm-11 1L8.5 8.5l.94-2.06 2.06-.94-2.06-.94L8.5 2.5l-.94 2.06-2.06.94zm10 10l.94 2.06.94-2.06 2.06-.94-2.06-.94-.94-2.06-.94 2.06-2.06.94z\"/><path d=\"M17.41 7.96l-1.37-1.37c-.4-.4-.92-.59-1.43-.59-.52 0-1.04.2-1.43.59L10.3 9.45l-7.72 7.72c-.78.78-.78 2.05 0 2.83L4 21.41c.39.39.9.59 1.41.59.51 0 1.02-.2 1.41-.59l7.78-7.78 2.81-2.81c.8-.78.8-2.07 0-2.86zM5.41 20L4 18.59l7.72-7.72 1.47 1.35L5.41 20z\"/>\n",
              "  </svg>\n",
              "      </button>\n",
              "      \n",
              "  <style>\n",
              "    .colab-df-container {\n",
              "      display:flex;\n",
              "      flex-wrap:wrap;\n",
              "      gap: 12px;\n",
              "    }\n",
              "\n",
              "    .colab-df-convert {\n",
              "      background-color: #E8F0FE;\n",
              "      border: none;\n",
              "      border-radius: 50%;\n",
              "      cursor: pointer;\n",
              "      display: none;\n",
              "      fill: #1967D2;\n",
              "      height: 32px;\n",
              "      padding: 0 0 0 0;\n",
              "      width: 32px;\n",
              "    }\n",
              "\n",
              "    .colab-df-convert:hover {\n",
              "      background-color: #E2EBFA;\n",
              "      box-shadow: 0px 1px 2px rgba(60, 64, 67, 0.3), 0px 1px 3px 1px rgba(60, 64, 67, 0.15);\n",
              "      fill: #174EA6;\n",
              "    }\n",
              "\n",
              "    [theme=dark] .colab-df-convert {\n",
              "      background-color: #3B4455;\n",
              "      fill: #D2E3FC;\n",
              "    }\n",
              "\n",
              "    [theme=dark] .colab-df-convert:hover {\n",
              "      background-color: #434B5C;\n",
              "      box-shadow: 0px 1px 3px 1px rgba(0, 0, 0, 0.15);\n",
              "      filter: drop-shadow(0px 1px 2px rgba(0, 0, 0, 0.3));\n",
              "      fill: #FFFFFF;\n",
              "    }\n",
              "  </style>\n",
              "\n",
              "      <script>\n",
              "        const buttonEl =\n",
              "          document.querySelector('#df-624892b9-c048-46dc-bbe6-9d290ff0e6c0 button.colab-df-convert');\n",
              "        buttonEl.style.display =\n",
              "          google.colab.kernel.accessAllowed ? 'block' : 'none';\n",
              "\n",
              "        async function convertToInteractive(key) {\n",
              "          const element = document.querySelector('#df-624892b9-c048-46dc-bbe6-9d290ff0e6c0');\n",
              "          const dataTable =\n",
              "            await google.colab.kernel.invokeFunction('convertToInteractive',\n",
              "                                                     [key], {});\n",
              "          if (!dataTable) return;\n",
              "\n",
              "          const docLinkHtml = 'Like what you see? Visit the ' +\n",
              "            '<a target=\"_blank\" href=https://colab.research.google.com/notebooks/data_table.ipynb>data table notebook</a>'\n",
              "            + ' to learn more about interactive tables.';\n",
              "          element.innerHTML = '';\n",
              "          dataTable['output_type'] = 'display_data';\n",
              "          await google.colab.output.renderOutput(dataTable, element);\n",
              "          const docLink = document.createElement('div');\n",
              "          docLink.innerHTML = docLinkHtml;\n",
              "          element.appendChild(docLink);\n",
              "        }\n",
              "      </script>\n",
              "    </div>\n",
              "  </div>\n",
              "  "
            ]
          },
          "metadata": {},
          "execution_count": 4
        }
      ]
    },
    {
      "cell_type": "markdown",
      "metadata": {
        "id": "PUZnwewy3coC"
      },
      "source": [
        "**TO DO:** Double click to edit this text. List the names of the four columns that remain in our data set.\n",
        "\n",
        "1.   Name\n",
        "2.   Neighborhood\n",
        "3.   Price\n",
        "4.   Number of Reviews\n"
      ]
    },
    {
      "cell_type": "markdown",
      "metadata": {
        "id": "yh38I5NKxnNn"
      },
      "source": [
        "<h2>Structured Data</h2>"
      ]
    },
    {
      "cell_type": "markdown",
      "metadata": {
        "id": "uhIgls2-IphN"
      },
      "source": [
        "Structured data includes numbers such as the price of the listing and the number of reviews the Airbnb has. It also includes words that have a pre-set number of options, such as the neighborhood the Airbnb is located in.\n",
        "\n",
        "In this part of the assignment, we'll look at the structured data in the data set to determine the optimal price and neighborhood for the Airbnb listing. The goal here will be to choose the location and price point which will give our listing the most number of reviews."
      ]
    },
    {
      "cell_type": "markdown",
      "metadata": {
        "id": "SDVCgXW7JQQg"
      },
      "source": [
        "**TO DO:** Run the code below, which outputs a list of all of the options for the neighborhood the listing could be in. The green text which starts with a # is a comment, it doesn't effect how the code is ran, but provides additional information for someone reading the code."
      ]
    },
    {
      "cell_type": "code",
      "metadata": {
        "id": "x_xtxI7zE8nw",
        "colab": {
          "base_uri": "https://localhost:8080/"
        },
        "outputId": "cdf79c84-29f7-4d48-ae27-ea10faec6198"
      },
      "source": [
        "# This code lists the options for the neighborhood the Airbnb listing could be in.\n",
        "airbnb_ny_df['Neighborhood'].unique()"
      ],
      "execution_count": 7,
      "outputs": [
        {
          "output_type": "execute_result",
          "data": {
            "text/plain": [
              "array(['Brooklyn', 'Manhattan', 'Queens', 'Staten Island', 'Bronx'],\n",
              "      dtype=object)"
            ]
          },
          "metadata": {},
          "execution_count": 7
        }
      ]
    },
    {
      "cell_type": "markdown",
      "metadata": {
        "id": "9PVPPK4XJdub"
      },
      "source": [
        "**TO DO:** Double click to edit this text. List the names of the five neighborhoods.\n",
        "\n",
        "1. Brooklyn\n",
        "2. Manhattan\n",
        "3. Queens\n",
        "4. Staten Island\n",
        "5. Bronx\n",
        "\n",
        " "
      ]
    },
    {
      "cell_type": "markdown",
      "metadata": {
        "id": "UNu_-YUoJqVD"
      },
      "source": [
        "We can also count the number of times each neighborhood is listed.\n",
        "\n",
        "**TO DO:** Run the code below to determine the number of Airbnb listings for each neighborhood."
      ]
    },
    {
      "cell_type": "code",
      "metadata": {
        "id": "l-e8_VAJFZvE",
        "colab": {
          "base_uri": "https://localhost:8080/"
        },
        "outputId": "9f753f2a-1041-4d61-b93b-bbd859574a2a"
      },
      "source": [
        "# This code counts the number of Airbnb listings for each neighborhood.\n",
        "airbnb_ny_df['Neighborhood'].value_counts()"
      ],
      "execution_count": 8,
      "outputs": [
        {
          "output_type": "execute_result",
          "data": {
            "text/plain": [
              "Manhattan        21661\n",
              "Brooklyn         20104\n",
              "Queens            5666\n",
              "Bronx             1091\n",
              "Staten Island      373\n",
              "Name: Neighborhood, dtype: int64"
            ]
          },
          "metadata": {},
          "execution_count": 8
        }
      ]
    },
    {
      "cell_type": "markdown",
      "metadata": {
        "id": "4erXSE9jJ9L1"
      },
      "source": [
        "**TO DO:** Double click to edit this text. Provide the name of the most popular neighborhood.\n",
        "\n",
        "The most popular neighborhood is ***Manhattan***.\n"
      ]
    },
    {
      "cell_type": "markdown",
      "metadata": {
        "id": "kd6wfVvFKyqn"
      },
      "source": [
        "Just because a certain neighborhood has a lot of listings (or not that many listings) doesn't really tell us whether or not it's a good idea to put another Airbnb there. It would be better to look at the number of reviews each neighborhood gets to see how popular they are with guests.\n",
        "\n",
        "**TO DO:** Run the code below to determine the total number of reviews for each neighborhood."
      ]
    },
    {
      "cell_type": "code",
      "metadata": {
        "id": "GPxQjzliGQJt",
        "colab": {
          "base_uri": "https://localhost:8080/"
        },
        "outputId": "2d675b20-029d-4f5d-fd82-6725594f15d6"
      },
      "source": [
        "# This code counts the number of Airbnb reviews for each neighborhood.\n",
        "airbnb_ny_df.groupby('Neighborhood')['Number of Reviews'].sum().sort_values(ascending=False)"
      ],
      "execution_count": 9,
      "outputs": [
        {
          "output_type": "execute_result",
          "data": {
            "text/plain": [
              "Neighborhood\n",
              "Brooklyn         486574\n",
              "Manhattan        454569\n",
              "Queens           156950\n",
              "Bronx             28371\n",
              "Staten Island     11541\n",
              "Name: Number of Reviews, dtype: int64"
            ]
          },
          "metadata": {},
          "execution_count": 9
        }
      ]
    },
    {
      "cell_type": "markdown",
      "metadata": {
        "id": "ieulTgMpLOaZ"
      },
      "source": [
        "**TO DO:** Double click to edit this text. Provide the name of the neighborhood with the most reviews.\n",
        "\n",
        "The neighbourhood with the most reviews is ***Brooklyn***."
      ]
    },
    {
      "cell_type": "markdown",
      "metadata": {
        "id": "6HvgITq5LfLH"
      },
      "source": [
        "We don't just want to know which neighborhood we should list our Airbnb in. We also want to determine how cheap or expensive our Airbnb should be.\n",
        "\n",
        "**TO DO:** Run the code below to see a graph of the number of reviews for the Airbnb based on its price."
      ]
    },
    {
      "cell_type": "code",
      "metadata": {
        "id": "inEaUqkVDnIi",
        "colab": {
          "base_uri": "https://localhost:8080/",
          "height": 412
        },
        "outputId": "0607a20e-a06a-461d-e918-e27c3a2d132b"
      },
      "source": [
        "#This code graphs the number of reviews based on the price of the Airbnb.\n",
        "\n",
        "fig, ax = plt.subplots(figsize=(10,6)) #Starts the graph making process and sets its size\n",
        "ax.scatter(airbnb_ny_df['Price'], airbnb_ny_df['Number of Reviews']) #Gets the data from the data set\n",
        "plt.title('Title', fontsize=18) #Makes the title\n",
        "plt.ylabel('Price', fontsize=14) #Makes the label for the X-axis (price)\n",
        "plt.xlabel('Number of Reviews', fontsize=14) #Makes the label for the Y-axis (number of reviews)\n",
        "plt.show() #Draws the graph"
      ],
      "execution_count": 11,
      "outputs": [
        {
          "output_type": "display_data",
          "data": {
            "text/plain": [
              "<Figure size 720x432 with 1 Axes>"
            ],
            "image/png": "[encoded data removed]"
          },
          "metadata": {
            "needs_background": "light"
          }
        }
      ]
    },
    {
      "cell_type": "markdown",
      "metadata": {
        "id": "Heg9GxgzMfdP"
      },
      "source": [
        "**TO DO:** Double click to edit the code above to add an appropriate title, x-axis label, and y-axis label."
      ]
    },
    {
      "cell_type": "markdown",
      "metadata": {
        "id": "gZWVQfNkMpQo"
      },
      "source": [
        "**TO DO:** Double click to edit this text. Give a range of price values that would likely provide a large number of reviews for the Airbnb.\n",
        "\n",
        "The price range **0 - 400** can provide a large number of reviews for the Airbnb."
      ]
    },
    {
      "cell_type": "markdown",
      "metadata": {
        "id": "07IVHlaYLWSK"
      },
      "source": [
        "**TO DO:** Double click to edit this text. Give your final recommendation for price and neighborhood location to maximize the number of reviews.\n",
        "\n",
        "I would recommend the price of the Airbnb be between **0 -100** and the neighborhoood location preference be **Brooklyn** to maximize the number of reviews.\n",
        "\n"
      ]
    },
    {
      "cell_type": "markdown",
      "metadata": {
        "id": "tmJBk-mPyxrs"
      },
      "source": [
        "<h2>Unstructured Data</h2>"
      ]
    },
    {
      "cell_type": "markdown",
      "metadata": {
        "id": "_VO_jN8E40FM"
      },
      "source": [
        "Unstructured data is data can be harder to analyze than structured data because it doesn't have a consistent form or pattern. However, we can still get meaningful information from looking at unstructured data.\n",
        "\n",
        "For our purposes, we're going to use the names of the Airbnb listings in the data set to determine what words we might want to include or try to avoid in our own listing.\n",
        "\n",
        "**TO DO:** Run the two pieces of code below. The first counts the number of times the word 'quiet' comes up in the Airbnb names, the second counts the number of times the word 'dark' comes up."
      ]
    },
    {
      "cell_type": "code",
      "metadata": {
        "id": "3ueX_K2oL5nL",
        "colab": {
          "base_uri": "https://localhost:8080/"
        },
        "outputId": "af524efc-da66-4909-950f-53fd5b3e8133"
      },
      "source": [
        "# Count the number of times the word QUIET comes up in the Airbnb names.\n",
        "airbnb_ny_df['Name'].str.count('quiet').sum()\n"
      ],
      "execution_count": 15,
      "outputs": [
        {
          "output_type": "execute_result",
          "data": {
            "text/plain": [
              "370"
            ]
          },
          "metadata": {},
          "execution_count": 15
        }
      ]
    },
    {
      "cell_type": "code",
      "metadata": {
        "id": "VLDwGL1YNOFv",
        "colab": {
          "base_uri": "https://localhost:8080/"
        },
        "outputId": "b32386cf-823b-4f64-f1cc-5896928e9477"
      },
      "source": [
        "# Count the number of times the word DARK comes up in the Airbnb names.\n",
        "airbnb_ny_df['Name'].str.count('dark').sum()"
      ],
      "execution_count": 16,
      "outputs": [
        {
          "output_type": "execute_result",
          "data": {
            "text/plain": [
              "0"
            ]
          },
          "metadata": {},
          "execution_count": 16
        }
      ]
    },
    {
      "cell_type": "markdown",
      "metadata": {
        "id": "DvwX0Z-EG5Oe"
      },
      "source": [
        "From the data, you can see that a decent number of listings, 370, used the word quiet while 0 used the word dark. From this information we might conclude that we shouldn't use the word dark in our listing, but we might want to use the word quiet because it's fairly popular.\n",
        "\n",
        "**TO DO:** Double click to edit the code pieces below to run counts on three words or phrases of your choice. Try to find a few different words which you'll want to include in your listing name."
      ]
    },
    {
      "cell_type": "code",
      "metadata": {
        "id": "yOntLx0g5QQ1",
        "colab": {
          "base_uri": "https://localhost:8080/"
        },
        "outputId": "5242bb61-6f16-4c01-c560-b34bb64e8e4b"
      },
      "source": [
        "# Edit the code below to run a count on a words or phrases of your choice.\n",
        "airbnb_ny_df['Name'].str.count('peaceful').sum()"
      ],
      "execution_count": 17,
      "outputs": [
        {
          "output_type": "execute_result",
          "data": {
            "text/plain": [
              "40"
            ]
          },
          "metadata": {},
          "execution_count": 17
        }
      ]
    },
    {
      "cell_type": "code",
      "metadata": {
        "id": "hxoCG-w3H-yW",
        "colab": {
          "base_uri": "https://localhost:8080/"
        },
        "outputId": "946f3e1f-b810-4a10-bff2-60cb2907405d"
      },
      "source": [
        "# Edit the code below to run a count on a words or phrases of your choice.\n",
        "airbnb_ny_df['Name'].str.count('spacious').sum()"
      ],
      "execution_count": 19,
      "outputs": [
        {
          "output_type": "execute_result",
          "data": {
            "text/plain": [
              "582"
            ]
          },
          "metadata": {},
          "execution_count": 19
        }
      ]
    },
    {
      "cell_type": "code",
      "metadata": {
        "id": "XVZXaft6IAYp",
        "colab": {
          "base_uri": "https://localhost:8080/"
        },
        "outputId": "9ee5b3bb-8d45-4c17-a309-4bce187c5752"
      },
      "source": [
        "# Edit the code below to run a count on a words or phrases of your choice.\n",
        "airbnb_ny_df['Name'].str.count('airy').sum()"
      ],
      "execution_count": 20,
      "outputs": [
        {
          "output_type": "execute_result",
          "data": {
            "text/plain": [
              "52"
            ]
          },
          "metadata": {},
          "execution_count": 20
        }
      ]
    },
    {
      "cell_type": "markdown",
      "metadata": {
        "id": "rPRmE5HbNGTy"
      },
      "source": [
        "**TO DO:** Double click to edit this text. Based on what you found when looking at the word frequencies, provide a recommendation for the name of the Airbnb.\n",
        "\n",
        "Airy Oasis - Spacious and Peaceful Retreat"
      ]
    }
  ]
}